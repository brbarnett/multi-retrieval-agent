{
 "cells": [
  {
   "cell_type": "markdown",
   "metadata": {},
   "source": [
    "### Load dependencies\n"
   ]
  },
  {
   "cell_type": "code",
   "execution_count": null,
   "metadata": {},
   "outputs": [],
   "source": [
    "%pip install -q -r requirements.txt"
   ]
  },
  {
   "cell_type": "markdown",
   "metadata": {},
   "source": [
    "### Load environment variables\n"
   ]
  },
  {
   "cell_type": "code",
   "execution_count": 1,
   "metadata": {},
   "outputs": [
    {
     "data": {
      "text/plain": [
       "True"
      ]
     },
     "execution_count": 1,
     "metadata": {},
     "output_type": "execute_result"
    }
   ],
   "source": [
    "import os\n",
    "from dotenv import load_dotenv\n",
    "\n",
    "load_dotenv()"
   ]
  },
  {
   "cell_type": "markdown",
   "metadata": {},
   "source": [
    "### Set up vector store\n"
   ]
  },
  {
   "cell_type": "code",
   "execution_count": 2,
   "metadata": {},
   "outputs": [],
   "source": [
    "import json\n",
    "from langchain_openai import AzureOpenAIEmbeddings\n",
    "from langchain_community.vectorstores import FAISS\n",
    "from langchain_core.documents import Document\n",
    "\n",
    "embeddings = AzureOpenAIEmbeddings(\n",
    "    api_key=os.environ[\"OPENAI_API_KEY\"],\n",
    "    azure_endpoint=os.environ[\"OPENAI_API_ENDPOINT\"],\n",
    "    deployment=os.environ[\"OPENAI_API_EMBEDDINGS_DEPLOYMENT\"],\n",
    ")\n",
    "\n",
    "with open(\"./data/work_orders.json\", \"r\") as f:\n",
    "    work_orders = json.load(f)\n",
    "\n",
    "documents = [Document(page_content=json.dumps(wo)) for wo in work_orders]\n",
    "\n",
    "db = FAISS.from_documents(documents, embeddings)"
   ]
  },
  {
   "cell_type": "markdown",
   "metadata": {},
   "source": [
    "### Import shared dependencies\n"
   ]
  },
  {
   "cell_type": "code",
   "execution_count": 3,
   "metadata": {},
   "outputs": [],
   "source": [
    "from langchain.tools import tool\n",
    "from langchain_core.pydantic_v1 import BaseModel, Field\n",
    "from typing import List, Optional"
   ]
  },
  {
   "cell_type": "markdown",
   "metadata": {},
   "source": [
    "### Create query tools\n"
   ]
  },
  {
   "cell_type": "code",
   "execution_count": 4,
   "metadata": {},
   "outputs": [],
   "source": [
    "class WorkOrderSearch(BaseModel):\n",
    "    issue: str = Field(\n",
    "        ...,\n",
    "        description=\"Issue reported by the maintenance tech to search work orders. For example, air entrapment or incomplete curing\",\n",
    "    )\n",
    "    temporal: str = Field(\n",
    "        ...,\n",
    "        description=\"Temporal string that refers to the first or last `n` work orders. Options can be 'first', 'last' or 'all'\",\n",
    "    )\n",
    "    n: Optional[int] = Field(..., description=\"Number of work orders requested\")\n",
    "\n",
    "\n",
    "@tool(args_schema=WorkOrderSearch)\n",
    "def search_work_orders(issue: str, temporal: str, n: Optional[int] = 3) -> List:\n",
    "    \"\"\"Search for work orders where a similar issue was observed and/or resolved.\"\"\"\n",
    "\n",
    "    embedding = embeddings.embed_query(issue)\n",
    "    results = db.similarity_search_with_score_by_vector(embedding, n)\n",
    "    result_documents = [json.loads(result[0].page_content) for result in results]\n",
    "\n",
    "    if temporal == \"last\":\n",
    "        result_documents = sorted(\n",
    "            result_documents, key=lambda doc: doc[\"date\"], reverse=True\n",
    "        )\n",
    "    elif temporal == \"first\":\n",
    "        result_documents = sorted(\n",
    "            result_documents, key=lambda doc: doc[\"date\"], reverse=False\n",
    "        )\n",
    "\n",
    "    return result_documents"
   ]
  },
  {
   "cell_type": "code",
   "execution_count": 5,
   "metadata": {},
   "outputs": [],
   "source": [
    "import pandas as pd\n",
    "from pandasql import sqldf\n",
    "\n",
    "parts = pd.read_json(\"./data/parts.json\")\n",
    "\n",
    "\n",
    "class PartsSearch(BaseModel):\n",
    "    partName: Optional[str] = Field(\n",
    "        ..., description=\"Name or description of the part and is a word or phrase\"\n",
    "    )\n",
    "    partNumber: Optional[str] = Field(\n",
    "        ..., description=\"Part number or ID. This is in the format `XX-00000`\"\n",
    "    )\n",
    "\n",
    "\n",
    "@tool(args_schema=PartsSearch)\n",
    "def search_parts(partName: Optional[str], partNumber: Optional[str]) -> List:\n",
    "    \"\"\"Search for a part, including its current inventory and location.\"\"\"\n",
    "\n",
    "    df = parts\n",
    "\n",
    "    if partNumber is not None:\n",
    "        return sqldf(f\"SELECT * FROM df WHERE partNumber = '{partNumber}'\", locals())\n",
    "    elif partName is not None:\n",
    "        return sqldf(f\"SELECT * FROM df WHERE partName = '{partName}'\", locals())\n",
    "    else:\n",
    "        return []"
   ]
  },
  {
   "cell_type": "markdown",
   "metadata": {},
   "source": [
    "### Create model with tools\n"
   ]
  },
  {
   "cell_type": "code",
   "execution_count": 6,
   "metadata": {},
   "outputs": [],
   "source": [
    "from typing import Literal\n",
    "from langgraph.graph import MessagesState\n",
    "from langchain_openai import AzureChatOpenAI\n",
    "\n",
    "tools = [search_parts, search_work_orders]\n",
    "model = AzureChatOpenAI(\n",
    "    api_key=os.environ[\"OPENAI_API_KEY\"],\n",
    "    api_version=\"2024-02-01\",\n",
    "    azure_deployment=os.environ[\"OPENAI_API_DEPLOYMENT\"],\n",
    "    azure_endpoint=os.environ[\"OPENAI_API_ENDPOINT\"],\n",
    "    streaming=True,\n",
    "    temperature=0,\n",
    "    verbose=False,\n",
    ").bind_tools(tools)\n",
    "\n",
    "\n",
    "def should_continue(state: MessagesState) -> Literal[\"tools\", \"__end__\"]:\n",
    "    messages = state[\"messages\"]\n",
    "    last_message = messages[-1]\n",
    "    if last_message.tool_calls:\n",
    "        return \"tools\"\n",
    "    return \"__end__\"\n",
    "\n",
    "\n",
    "def call_model(state: MessagesState):\n",
    "    messages = state[\"messages\"]\n",
    "    response = model.invoke(messages)\n",
    "    return {\"messages\": [response]}"
   ]
  },
  {
   "cell_type": "markdown",
   "metadata": {},
   "source": [
    "### Define app from graph\n"
   ]
  },
  {
   "cell_type": "code",
   "execution_count": 7,
   "metadata": {},
   "outputs": [],
   "source": [
    "from langgraph.graph import StateGraph, MessagesState\n",
    "from langgraph.prebuilt import ToolNode\n",
    "from langgraph.checkpoint.memory import MemorySaver\n",
    "\n",
    "workflow = StateGraph(MessagesState)\n",
    "\n",
    "tool_node = ToolNode(tools)\n",
    "\n",
    "# Define the two nodes we will cycle between\n",
    "workflow.add_node(\"agent\", call_model)\n",
    "workflow.add_node(\"tools\", tool_node)\n",
    "\n",
    "workflow.add_edge(\"__start__\", \"agent\")\n",
    "workflow.add_conditional_edges(\n",
    "    \"agent\",\n",
    "    should_continue,\n",
    ")\n",
    "workflow.add_edge(\"tools\", \"agent\")\n",
    "\n",
    "memory = MemorySaver()\n",
    "app = workflow.compile(checkpointer=memory)"
   ]
  },
  {
   "cell_type": "markdown",
   "metadata": {},
   "source": [
    "### Visually express graph structure\n"
   ]
  },
  {
   "cell_type": "code",
   "execution_count": 8,
   "metadata": {},
   "outputs": [
    {
     "data": {
      "image/jpeg": "[encoded data removed]",
      "text/plain": [
       "<IPython.core.display.Image object>"
      ]
     },
     "metadata": {},
     "output_type": "display_data"
    }
   ],
   "source": [
    "from IPython.display import Image, display\n",
    "\n",
    "display(Image(app.get_graph().draw_mermaid_png()))"
   ]
  },
  {
   "cell_type": "markdown",
   "metadata": {},
   "source": [
    "### Run app\n"
   ]
  },
  {
   "cell_type": "code",
   "execution_count": 9,
   "metadata": {},
   "outputs": [],
   "source": [
    "from langchain_core.messages import HumanMessage\n",
    "\n",
    "\n",
    "# run this to view each message\n",
    "def run_agent_debug(query: str, thread_id: str):\n",
    "    for chunk in app.stream(\n",
    "        {\"messages\": [HumanMessage(content=query)]},\n",
    "        config={\"configurable\": {\"thread_id\": thread_id}},\n",
    "        stream_mode=\"values\",\n",
    "    ):\n",
    "        chunk[\"messages\"][-1].pretty_print()\n",
    "\n",
    "\n",
    "# run this to only get the final streamed response\n",
    "async def run_agent(query: str, thread_id: str):\n",
    "    async for event in app.astream_events(\n",
    "        {\"messages\": [HumanMessage(content=query)]},\n",
    "        config={\"configurable\": {\"thread_id\": thread_id}},\n",
    "        stream_mode=\"values\",\n",
    "        version=\"v2\",\n",
    "    ):\n",
    "        kind = event[\"event\"]\n",
    "        if kind == \"on_chat_model_stream\":\n",
    "            content = event[\"data\"][\"chunk\"].content\n",
    "            if content:\n",
    "                # Empty content in the context of OpenAI means\n",
    "                # that the model is asking for a tool to be invoked.\n",
    "                # So we only print non-empty content\n",
    "                print(content, end=\"\")"
   ]
  },
  {
   "cell_type": "code",
   "execution_count": 10,
   "metadata": {},
   "outputs": [
    {
     "name": "stdout",
     "output_type": "stream",
     "text": [
      "================================\u001b[1m Human Message \u001b[0m=================================\n",
      "\n",
      "What are the last 2 work orders that show excessive mold wear? Which parts were replaced, and what are their current inventory levels?\n",
      "==================================\u001b[1m Ai Message \u001b[0m==================================\n",
      "Tool Calls:\n",
      "  search_work_orders (call_jKz41yaEf3KcF1Fvp2xzrxVk)\n",
      " Call ID: call_jKz41yaEf3KcF1Fvp2xzrxVk\n",
      "  Args:\n",
      "    issue: excessive mold wear\n",
      "    temporal: last\n",
      "    n: 2\n",
      "=================================\u001b[1m Tool Message \u001b[0m=================================\n",
      "Name: search_work_orders\n",
      "\n",
      "[{\"issue\": \"Excessive mold wear\", \"solution\": \"Use high-quality mold materials and coatings. Regularly inspect and maintain the mold. Implement a preventive maintenance schedule to extend mold life.\", \"date\": \"2024-01-27\", \"id\": \"ISSUE-1017\", \"replacedParts\": [\"HE-12345\", \"CP-44556\"]}, {\"issue\": \"Mold surface damage\", \"solution\": \"Regularly inspect and repair any damage to the mold surface. Use protective coatings to prevent further damage. Replace the mold if necessary to ensure product quality.\", \"date\": \"2024-01-18\", \"id\": \"ISSUE-1013\", \"replacedParts\": [\"HE-12345\"]}]\n",
      "==================================\u001b[1m Ai Message \u001b[0m==================================\n",
      "Tool Calls:\n",
      "  search_parts (call_b56zYtPi8ZwNI400gK88rsXG)\n",
      " Call ID: call_b56zYtPi8ZwNI400gK88rsXG\n",
      "  Args:\n",
      "    partName: HE-12345\n",
      "    partNumber: HE-12345\n",
      "  search_parts (call_m9lWqFe5NOD6OSgvzmwwASOA)\n",
      " Call ID: call_m9lWqFe5NOD6OSgvzmwwASOA\n",
      "  Args:\n",
      "    partName: CP-44556\n",
      "    partNumber: CP-44556\n",
      "=================================\u001b[1m Tool Message \u001b[0m=================================\n",
      "Name: search_parts\n",
      "\n",
      "        partName partNumber  inventory          location\n",
      "0  Control Panel   CP-44556          3  Aisle 4, Shelf C\n",
      "==================================\u001b[1m Ai Message \u001b[0m==================================\n",
      "\n",
      "Here are the last two work orders related to excessive mold wear:\n",
      "\n",
      "1. **Work Order ID:** ISSUE-1017\n",
      "   - **Date:** January 27, 2024\n",
      "   - **Replaced Parts:** \n",
      "     - Heating Element (HE-12345)\n",
      "     - Control Panel (CP-44556)\n",
      "   - **Solution:** Use high-quality mold materials and coatings. Regularly inspect and maintain the mold. Implement a preventive maintenance schedule to extend mold life.\n",
      "\n",
      "2. **Work Order ID:** ISSUE-1013\n",
      "   - **Date:** January 18, 2024\n",
      "   - **Replaced Parts:** \n",
      "     - Heating Element (HE-12345)\n",
      "   - **Solution:** Regularly inspect and repair any damage to the mold surface. Use protective coatings to prevent further damage. Replace the mold if necessary to ensure product quality.\n",
      "\n",
      "### Current Inventory Levels:\n",
      "- **Heating Element (HE-12345):** 15 units (Location: Aisle 3, Shelf B)\n",
      "- **Control Panel (CP-44556):** 3 units (Location: Aisle 4, Shelf C)\n"
     ]
    }
   ],
   "source": [
    "run_agent_debug(\n",
    "    \"What are the last 2 work orders that show excessive mold wear? Which parts were replaced, and what are their current inventory levels?\",\n",
    "    \"7\",\n",
    ")"
   ]
  }
 ],
 "metadata": {
  "kernelspec": {
   "display_name": "Python 3",
   "language": "python",
   "name": "python3"
  },
  "language_info": {
   "codemirror_mode": {
    "name": "ipython",
    "version": 3
   },
   "file_extension": ".py",
   "mimetype": "text/x-python",
   "name": "python",
   "nbconvert_exporter": "python",
   "pygments_lexer": "ipython3",
   "version": "3.12.4"
  }
 },
 "nbformat": 4,
 "nbformat_minor": 2
}
